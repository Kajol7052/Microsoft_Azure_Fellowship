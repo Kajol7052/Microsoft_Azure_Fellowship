{
 "cells": [
  {
   "cell_type": "code",
   "execution_count": null,
   "metadata": {
    "application/vnd.databricks.v1+cell": {
     "inputWidgets": {},
     "nuid": "78f02202-e937-4d69-98e9-846afd947285",
     "showTitle": false,
     "title": ""
    }
   },
   "outputs": [],
   "source": [
    "dbutils.widgets.text(name=\"ckey\", defaultValue= \" \", label= \"Consumer Key\")\n",
    "dbutils.widgets.text(name=\"csecret\", defaultValue= \" \", label= \"Consumer Secret\")\n",
    "dbutils.widgets.text(name=\"atoken\",defaultValue=\" \",label=\"Access Token\")\n",
    "dbutils.widgets.text(name=\"asecret\", defaultValue= \" \", label= \"Access Secret\")\n",
    "dbutils.widgets.help()"
   ]
  },
  {
   "cell_type": "code",
   "execution_count": null,
   "metadata": {
    "application/vnd.databricks.v1+cell": {
     "inputWidgets": {},
     "nuid": "fde52532-ab81-4e5e-94a2-685ea7d7736f",
     "showTitle": false,
     "title": ""
    }
   },
   "outputs": [],
   "source": [
    "import asyncio\n",
    "from azure.eventhub.aio import EventHubProducerClient\n",
    "from azure.eventhub import EventData\n",
    "from tweepy import Stream\n",
    "from tweepy import OAuthHandler\n",
    "from tweepy.streaming import StreamListener\n",
    "import json\n",
    "import nltk\n",
    "from textblob import TextBlob, Word, Blobber\n",
    "nltk.download('punkt')\n",
    "nltk.download('averaged_perceptron_tagger')\n",
    "nltk.download('brown')"
   ]
  },
  {
   "cell_type": "code",
   "execution_count": null,
   "metadata": {
    "application/vnd.databricks.v1+cell": {
     "inputWidgets": {},
     "nuid": "a4557a52-806a-4b79-b21f-5fc7e60cfd30",
     "showTitle": false,
     "title": ""
    }
   },
   "outputs": [],
   "source": [
    "def getblobsentiment(text):\n",
    "  blob = TextBlob(text)\n",
    "  \n",
    "  i=0.00\n",
    "  for sentence in blob.sentences:\n",
    "      i=i+sentence.sentiment.polarity\n",
    "      #print(sentence.sentiment.polarity)\n",
    "    \n",
    "  if i >0: \n",
    "    return 1\n",
    "  elif i<0:\n",
    "    return -1\n",
    "  else:\n",
    "    return 0\n",
    "\n",
    "async def run (text):\n",
    "  producer = EventHubProducerClient.from_connection_string(conn_str=\"CONNECTION_STRING\",eventhub_name=\"EVENTHUB_NAME\")\n",
    "  async with producer:\n",
    "    # Create a batch.\n",
    "    event_data_batch = await producer.create_batch()\n",
    "    event_data_batch.add(EventData(text))\n",
    "    await producer.send_batch(event_data_batch)  "
   ]
  },
  {
   "cell_type": "code",
   "execution_count": null,
   "metadata": {
    "application/vnd.databricks.v1+cell": {
     "inputWidgets": {},
     "nuid": "41f58891-a096-4568-953c-08eb39fa7436",
     "showTitle": false,
     "title": ""
    }
   },
   "outputs": [],
   "source": [
    "class listener(StreamListener):\n",
    "      def on_data(self, data): \n",
    "        loop = asyncio.get_event_loop()\n",
    "\n",
    "        t=json.loads(data)\n",
    "\n",
    "        d1 = {\"text\":t[\"text\"] ,\"sentiment\": getblobsentiment(t[\"text\"]) ,\"created_at\" :t[\"created_at\"]  }\n",
    "        print (type(data))     \n",
    "        loop.run_until_complete(run(json.dumps(d1)))\n",
    "        print(d1)\n",
    "\n",
    "        return(True)\n",
    "\n",
    "      def on_error(self, status):\n",
    "        print(status)\n",
    "    \n",
    "    \n",
    "ckey=dbutils.widgets.get(\"ckey\")\n",
    "csecret=dbutils.widgets.get(\"csecret\")\n",
    "atoken=dbutils.widgets.get(\"atoken\")\n",
    "asecret=dbutils.widgets.get(\"asecret\")\n",
    "\n",
    "auth = OAuthHandler(ckey, csecret) \n",
    "auth.set_access_token(atoken, asecret)\n",
    "\n",
    "twitterStream = Stream(auth, listener())\n",
    "#twitterStream.filter(track=[\"positive\"])\n",
    "#twitterStream.filter(track=[\"trump\"])"
   ]
  },
  {
   "cell_type": "code",
   "execution_count": null,
   "metadata": {
    "application/vnd.databricks.v1+cell": {
     "inputWidgets": {},
     "nuid": "a05ba5c1-1df1-4830-bd9d-dc76b5f9de8c",
     "showTitle": false,
     "title": ""
    }
   },
   "outputs": [],
   "source": [
    "print(getblobsentiment(\"I feel good\"))"
   ]
  },
  {
   "cell_type": "code",
   "execution_count": null,
   "metadata": {
    "application/vnd.databricks.v1+cell": {
     "inputWidgets": {},
     "nuid": "c92fed98-3aae-499c-a1c8-2ed3e230f788",
     "showTitle": false,
     "title": ""
    }
   },
   "outputs": [],
   "source": []
  }
 ],
 "metadata": {
  "application/vnd.databricks.v1+notebook": {
   "dashboards": [],
   "language": "python",
   "notebookName": "Notebook-TwitterSA",
   "notebookOrigID": 2510585180808341,
   "widgets": {
    "asecret": {
     "currentValue": " ",
     "nuid": "876adb40-9a22-49b2-b16d-8f21d55e7848",
     "widgetInfo": {
      "defaultValue": " ",
      "label": "Access Secret",
      "name": "asecret",
      "options": {
       "validationRegex": null,
       "widgetType": "text"
      },
      "widgetType": "text"
     }
    },
    "atoken": {
     "currentValue": " ",
     "nuid": "bb6ca15e-c5a0-4437-afbb-4613db109d5c",
     "widgetInfo": {
      "defaultValue": " ",
      "label": "Access Token",
      "name": "atoken",
      "options": {
       "validationRegex": null,
       "widgetType": "text"
      },
      "widgetType": "text"
     }
    },
    "ckey": {
     "currentValue": " ",
     "nuid": "33569f4e-d715-4762-9822-858d1018b77f",
     "widgetInfo": {
      "defaultValue": " ",
      "label": "Consumer Key",
      "name": "ckey",
      "options": {
       "validationRegex": null,
       "widgetType": "text"
      },
      "widgetType": "text"
     }
    },
    "csecret": {
     "currentValue": " ",
     "nuid": "73f1af0b-cec6-40c2-a5e9-fddd06376545",
     "widgetInfo": {
      "defaultValue": " ",
      "label": "Consumer Secret",
      "name": "csecret",
      "options": {
       "validationRegex": null,
       "widgetType": "text"
      },
      "widgetType": "text"
     }
    }
   }
  },
  "kernelspec": {
   "display_name": "Python 3",
   "language": "python",
   "name": "python3"
  },
  "language_info": {
   "codemirror_mode": {
    "name": "ipython",
    "version": 3
   },
   "file_extension": ".py",
   "mimetype": "text/x-python",
   "name": "python",
   "nbconvert_exporter": "python",
   "pygments_lexer": "ipython3",
   "version": "3.7.6"
  }
 },
 "nbformat": 4,
 "nbformat_minor": 1
}
